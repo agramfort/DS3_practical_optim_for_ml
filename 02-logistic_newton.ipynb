{
 "cells": [
  {
   "cell_type": "markdown",
   "metadata": {},
   "source": [
    "# Newton method for logistic regression\n",
    "\n",
    "Author: Alexandre Gramfort\n",
    "\n",
    "We consider the L2 regularized logistic regression model with an hyperparameter $\\lambda$:\n",
    "\n",
    "$$\n",
    "\\hat{w} = argmin_{w} \\sum_{i=1}^n \\log \\{1 + \\exp(-y_i(x_i^\\top w) \\}) + \\frac{\\lambda}{2} \\|w\\|^2\n",
    "$$"
   ]
  },
  {
   "cell_type": "code",
   "execution_count": null,
   "metadata": {},
   "outputs": [],
   "source": [
    "%matplotlib inline\n",
    "import math\n",
    "import numpy as np\n",
    "import matplotlib.pyplot as plt\n",
    "from scipy import linalg"
   ]
  },
  {
   "cell_type": "code",
   "execution_count": null,
   "metadata": {},
   "outputs": [],
   "source": [
    "from sklearn import datasets\n",
    "\n",
    "iris = datasets.load_iris()\n",
    "X = iris.data\n",
    "y = iris.target\n",
    "\n",
    "# Take only 2 features\n",
    "X = X[:, :2]\n",
    "\n",
    "# Make it binary\n",
    "X = X[y < 2]\n",
    "y = y[y < 2]\n",
    "\n",
    "y[y == 0] = -1"
   ]
  },
  {
   "cell_type": "code",
   "execution_count": null,
   "metadata": {},
   "outputs": [],
   "source": [
    "plt.scatter(X[y > 0, 0], X[y > 0, 1], color='r')\n",
    "plt.scatter(X[y < 0, 0], X[y < 0, 1], color='b');"
   ]
  },
  {
   "cell_type": "markdown",
   "metadata": {},
   "source": [
    "## Now implement Newton method for logistic regression"
   ]
  },
  {
   "cell_type": "code",
   "execution_count": null,
   "metadata": {},
   "outputs": [],
   "source": [
    "def newton_logistic(X, y, lambd):\n",
    "    X = np.asarray(X, dtype=np.float)\n",
    "    y = np.asarray(y, dtype=np.float)\n",
    "\n",
    "    n_samples, n_features = X.shape\n",
    "\n",
    "    w = np.zeros(n_features)\n",
    "    pobj = []\n",
    "\n",
    "    for k in range(10):\n",
    "        ywTx = y * np.dot(X, w)\n",
    "        temp = 1. / (1. + np.exp(ywTx))\n",
    "        grad = - np.dot(X.T, (y * temp)) + lambd * w\n",
    "        hess = np.dot(X.T, (temp * ( 1. - temp ))[:, None] * X)\n",
    "        hess.flat[::n_features + 1] += lambd\n",
    "\n",
    "        w -= linalg.solve(hess, grad)\n",
    "\n",
    "        this_pobj = np.sum(np.log( 1. + np.exp( - y * np.dot(X, w))))\n",
    "        this_pobj += lambd * np.dot(w, w) / 2.\n",
    "        pobj.append(this_pobj)\n",
    "\n",
    "    print(\"Global minimum : %s\" % pobj[-1])\n",
    "\n",
    "    return w, pobj"
   ]
  },
  {
   "cell_type": "code",
   "execution_count": null,
   "metadata": {},
   "outputs": [],
   "source": [
    "lambd = 0.1\n",
    "w, pobj = newton_logistic(X, y, lambd=lambd)"
   ]
  },
  {
   "cell_type": "markdown",
   "metadata": {},
   "source": [
    "### did cost function go down?"
   ]
  },
  {
   "cell_type": "code",
   "execution_count": null,
   "metadata": {},
   "outputs": [],
   "source": [
    "plt.plot(np.log10(pobj - pobj[-1] + np.finfo('float').eps), 'b')\n",
    "plt.xlabel('Iterations')\n",
    "plt.ylabel(r'$f(x^k) - f(x^*)$')\n",
    "plt.show()"
   ]
  },
  {
   "cell_type": "markdown",
   "metadata": {},
   "source": [
    "### Does it do the job?"
   ]
  },
  {
   "cell_type": "code",
   "execution_count": null,
   "metadata": {},
   "outputs": [],
   "source": [
    "plt.scatter(X[y > 0, 0], X[y > 0, 1], color='r')\n",
    "plt.scatter(X[y < 0, 0], X[y < 0, 1], color='b')\n",
    "xx = np.linspace(4, 8, 10)\n",
    "plt.plot(xx,  - xx * w[0] / w[1], 'k');"
   ]
  },
  {
   "cell_type": "markdown",
   "metadata": {},
   "source": [
    "# Logistic Regression with L-BFGS"
   ]
  },
  {
   "cell_type": "code",
   "execution_count": null,
   "metadata": {},
   "outputs": [],
   "source": [
    "def f(w):\n",
    "    pobj = np.sum(np.log(1. + np.exp(- y * np.dot(X, w))))\n",
    "    pobj += lambd * np.dot(w, w) / 2.\n",
    "    return pobj\n",
    "\n",
    "def f_grad(w):\n",
    "    ywTx = y * np.dot(X, w)\n",
    "    temp = 1. / (1. + np.exp(ywTx))\n",
    "    grad = -np.dot(X.T, (y * temp)) + lambd * w\n",
    "    return grad\n",
    "\n",
    "from scipy.optimize import fmin_l_bfgs_b\n",
    "w, _, _ = fmin_l_bfgs_b(f, x0=np.zeros(X.shape[1]), fprime=f_grad)"
   ]
  },
  {
   "cell_type": "code",
   "execution_count": null,
   "metadata": {},
   "outputs": [],
   "source": [
    "plt.scatter(X[y > 0, 0], X[y > 0, 1], color='r')\n",
    "plt.scatter(X[y < 0, 0], X[y < 0, 1], color='b')\n",
    "xx = np.linspace(4, 8, 10)\n",
    "plt.plot(xx,  - xx * w[0] / w[1], 'k');"
   ]
  },
  {
   "cell_type": "markdown",
   "metadata": {},
   "source": [
    "<div class=\"alert alert-success\">\n",
    "    <b>QUESTION 1:</b>\n",
    "     <ul>\n",
    "       <li>Modify f and f_grad to add support for a bias term: b. The probem reads:\n",
    "$$\n",
    "\\hat{w} = argmin_{w, b} \\sum_{i=1}^n \\log \\{1 + \\exp(-y_i(x_i^\\top w + b) \\}) + \\frac{\\lambda}{2} \\|w\\|^2\n",
    "$$\n",
    "You will check your gradient with scipy.optimize.check_grad.\n",
    "         </li>\n",
    "       <li>Implement a solver for logistic regression with bias and L2 regularization using L-BFGS-B.</li>\n",
    "       <li>Implement a solver for logistic regression with bias and L2 regularization using Newton's method.</li>\n",
    "    </ul>\n",
    "</div>"
   ]
  },
  {
   "cell_type": "code",
   "execution_count": null,
   "metadata": {},
   "outputs": [],
   "source": []
  }
 ],
 "metadata": {
  "kernelspec": {
   "display_name": "Python 3",
   "language": "python",
   "name": "python3"
  },
  "language_info": {
   "codemirror_mode": {
    "name": "ipython",
    "version": 3
   },
   "file_extension": ".py",
   "mimetype": "text/x-python",
   "name": "python",
   "nbconvert_exporter": "python",
   "pygments_lexer": "ipython3",
   "version": "3.8.6"
  }
 },
 "nbformat": 4,
 "nbformat_minor": 1
}
