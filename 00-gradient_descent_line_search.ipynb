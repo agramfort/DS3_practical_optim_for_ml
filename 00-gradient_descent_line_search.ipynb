{
 "cells": [
  {
   "cell_type": "markdown",
   "metadata": {},
   "source": [
    "# Gradient descent (with line search)\n",
    "\n",
    "Author : Alexandre Gramfort\n",
    "\n",
    "We're interested in minimizing\n",
    "\n",
    "$f(x_1, x_2) = (x_1^2 + x_2 - 11)^2 + (x_1 + x_2^2 - 7)^2$\n",
    "\n",
    "**Question** : is it a convex function?"
   ]
  },
  {
   "cell_type": "code",
   "execution_count": null,
   "metadata": {},
   "outputs": [],
   "source": [
    "import numpy as np\n",
    "\n",
    "def f(x):\n",
    "    x1, x2 = x\n",
    "    return (x1**2 + x2 - 11)**2 + (x1 + x2**2 - 7)**2"
   ]
  },
  {
   "cell_type": "code",
   "execution_count": null,
   "metadata": {},
   "outputs": [],
   "source": [
    "%matplotlib inline\n",
    "import matplotlib.pyplot as plt\n",
    "\n",
    "def plot(xs=None):\n",
    "    X1, X2 = np.meshgrid(np.linspace(-5, 5, 50),\n",
    "                     np.linspace(-5, 5, 50))\n",
    "    Z = f([X1, X2])\n",
    "    levels = list(1.7 ** np.linspace(0, 10, 30) - 1.) + [300]\n",
    "    plt.figure(figsize=(8, 8))\n",
    "    plt.contourf(X1, X2, np.sqrt(Z), levels=np.sqrt(levels), cmap=plt.cm.Oranges_r)\n",
    "    if xs is not None:\n",
    "        x1, x2 = np.array(xs).T\n",
    "        plt.plot(x1, x2, 'k')\n",
    "        plt.plot(x1, x2, 'ro')\n",
    "\n",
    "plot()"
   ]
  },
  {
   "cell_type": "code",
   "execution_count": null,
   "metadata": {},
   "outputs": [],
   "source": [
    "def f_grad(x):\n",
    "    x1, x2 = x\n",
    "    df_x1 = 2 * (-7 + x1 + x2**2 + 2*x1*(-11 + x1**2 + x2))\n",
    "    df_x2 = 2 * (-11 + x1**2 + x2 + 2 * x2 * (-7 + x1 + x2 ** 2))\n",
    "    return np.array([df_x1, df_x2])"
   ]
  },
  {
   "cell_type": "markdown",
   "metadata": {},
   "source": [
    "### Check the gradient numerically using scipy.optimize"
   ]
  },
  {
   "cell_type": "code",
   "execution_count": null,
   "metadata": {},
   "outputs": [],
   "source": [
    "from scipy.optimize import check_grad\n",
    "\n",
    "x0 = [-0.2, 0.72]\n",
    "check_grad(f, f_grad, x0)"
   ]
  },
  {
   "cell_type": "markdown",
   "metadata": {},
   "source": [
    "## Gradient descent"
   ]
  },
  {
   "cell_type": "code",
   "execution_count": null,
   "metadata": {},
   "outputs": [],
   "source": [
    "x0 = [-0.2, 0.72]\n",
    "\n",
    "def grad_descent(step_size=0.01, max_iter=0):\n",
    "    \"\"\"Gradient descent with constant step size\"\"\"\n",
    "    x = x0\n",
    "    xs = [x]\n",
    "    for k in range(max_iter):\n",
    "        d_k = - f_grad(x)\n",
    "        t_k = step_size  # does not depend on k\n",
    "        x = x + step_size * d_k\n",
    "        xs.append(x)\n",
    "    plot(xs)\n",
    "\n",
    "grad_descent(0.01, max_iter=20)"
   ]
  },
  {
   "cell_type": "code",
   "execution_count": null,
   "metadata": {},
   "outputs": [],
   "source": [
    "from ipywidgets import interact\n",
    "\n",
    "interact(grad_descent, step_size=(0., .05, 0.005), max_iter=(0, 50, 1));"
   ]
  },
  {
   "cell_type": "code",
   "execution_count": null,
   "metadata": {},
   "outputs": [],
   "source": [
    "from scipy import optimize\n",
    "\n",
    "def grad_descent_line_search(step_size=0.01, max_iter=2, line_search=False):\n",
    "    \"\"\"Gradient descent with constant step size or line search\"\"\"\n",
    "    x = x0\n",
    "    xs = [x]\n",
    "    for k in range(max_iter):\n",
    "        d_k = -f_grad(x)\n",
    "        if line_search:\n",
    "            c1, c2 = 0.1, 0.7\n",
    "            t_k = optimize.line_search(f, f_grad, x, d_k, -d_k, c1=c1, c2=c2)[0]\n",
    "        else:\n",
    "            t_k = step_size\n",
    "        x = x + t_k * d_k\n",
    "        xs.append(x)\n",
    "    plot(xs)\n",
    "\n",
    "\n",
    "interact(grad_descent_line_search, step_size=(0., .05, 0.005), max_iter=(0, 50, 1));"
   ]
  }
 ],
 "metadata": {
  "kernelspec": {
   "display_name": "Python 3",
   "language": "python",
   "name": "python3"
  },
  "language_info": {
   "codemirror_mode": {
    "name": "ipython",
    "version": 3
   },
   "file_extension": ".py",
   "mimetype": "text/x-python",
   "name": "python",
   "nbconvert_exporter": "python",
   "pygments_lexer": "ipython3",
   "version": "3.8.6"
  }
 },
 "nbformat": 4,
 "nbformat_minor": 2
}
