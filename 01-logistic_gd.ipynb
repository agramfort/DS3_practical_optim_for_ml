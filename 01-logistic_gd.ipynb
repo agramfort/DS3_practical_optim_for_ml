{
 "cells": [
  {
   "cell_type": "markdown",
   "metadata": {},
   "source": [
    "# Gradient descent for L2 logistic regression\n",
    "\n",
    "Author: Alexandre Gramfort\n",
    "\n",
    "### Logistic regression model\n",
    "\n",
    "the log ratio of class probabilities is a linear function of the features:\n",
    "\n",
    "$$\n",
    "\\log \\left(\\frac{\\mathbb{P}\\{Y=+1 \\mid X=x\\}}{\\mathbb{P}\\{Y=-1 \\mid X=x\\}}\\right)\n",
    "= x^\\top w\n",
    "$$\n",
    "\n",
    "Decision function:\n",
    "\n",
    "$$\n",
    "x^\\top w > 0 \\Rightarrow y = 1\n",
    "$$\n",
    "\n",
    "It is a **linear** function of the features !\n",
    "\n",
    "We then can get the conditional probabilities:\n",
    "\n",
    "$$\n",
    "\\mathbb{P}\\{Y=-1 \\mid X=x\\} = \\frac{\\exp(x^\\top w)}{1 + \\exp(x^\\top w)}\n",
    "$$\n",
    "\n",
    "$$\n",
    "\\mathbb{P}\\{Y=1 \\mid X=x\\} = \\frac{1}{1 + \\exp(x^\\top w)}\n",
    "$$\n",
    "\n",
    "In practice $w$ is computed by maximizing the likelihood of the training data under this model. It reads:\n",
    "\n",
    "$$\n",
    "\\hat{w} = argmin_{w} \\sum_{i=1}^n \\sum_k 1_{\\{Y_i = k\\}} \\log (\\mathbb{P}\\{Y=k \\mid X=x_i, w \\})\n",
    "$$\n",
    "\n",
    "One can show that it leads with y=1 or y=-1 to:\n",
    "\n",
    "$$\n",
    "\\hat{w} = argmin_{w} \\sum_{i=1}^n \\log \\{1 + \\exp(-y_i(x_i^\\top w) \\})\n",
    "$$\n",
    "\n",
    "With L2 regularization and an hyperparameter $\\lambda$ it leads to:\n",
    "\n",
    "$$\n",
    "\\hat{w} = argmin_{w} \\sum_{i=1}^n \\log \\{1 + \\exp(-y_i(x_i^\\top w) \\}) + \\frac{\\lambda}{2} \\|w\\|^2\n",
    "$$"
   ]
  },
  {
   "cell_type": "code",
   "execution_count": null,
   "metadata": {},
   "outputs": [],
   "source": [
    "%matplotlib inline\n",
    "import math\n",
    "import numpy as np\n",
    "import matplotlib.pyplot as plt"
   ]
  },
  {
   "cell_type": "code",
   "execution_count": null,
   "metadata": {},
   "outputs": [],
   "source": [
    "from sklearn import datasets\n",
    "\n",
    "iris = datasets.load_iris()\n",
    "X = iris.data[:, :2]\n",
    "y = iris.target\n",
    "\n",
    "# Make it binary\n",
    "X = X[y < 2]\n",
    "y = y[y < 2]\n",
    "\n",
    "# add intercept column of ones\n",
    "# X = np.concatenate((X, np.ones((X.shape[0], 1))), axis=1)\n",
    "\n",
    "y[y == 0] = -1"
   ]
  },
  {
   "cell_type": "code",
   "execution_count": null,
   "metadata": {},
   "outputs": [],
   "source": [
    "plt.scatter(X[y > 0, 0], X[y > 0, 1], color='r')\n",
    "plt.scatter(X[y < 0, 0], X[y < 0, 1], color='b')"
   ]
  },
  {
   "cell_type": "code",
   "execution_count": null,
   "metadata": {},
   "outputs": [],
   "source": [
    "def f(w):\n",
    "    pobj = np.sum(np.log(1. + np.exp(- y * np.dot(X, w))))\n",
    "    return pobj\n",
    "\n",
    "def f_grad(w):\n",
    "    ywTx = y * np.dot(X, w)\n",
    "    temp = 1. / (1. + np.exp(ywTx))\n",
    "    grad = -np.dot(X.T, (y * temp))\n",
    "    return grad\n",
    "\n",
    "from scipy.optimize import check_grad\n",
    "check_grad(f, f_grad, np.random.randn(2))"
   ]
  },
  {
   "cell_type": "code",
   "execution_count": null,
   "metadata": {},
   "outputs": [],
   "source": [
    "def grad_descent(f, f_grad, w0, step_size=0.01, max_iter=0):\n",
    "    \"\"\"Gradient descent with constant step size\"\"\"\n",
    "    w = w0.copy()\n",
    "    fws = []\n",
    "    for k in range(max_iter):\n",
    "        w -= step_size * f_grad(w)\n",
    "        fws.append(f(w))\n",
    "    return w, fws\n",
    "\n",
    "n_features = X.shape[1]\n",
    "x0 = np.zeros(n_features)\n",
    "w_hat, fws = grad_descent(f, f_grad, x0, step_size=0.001, max_iter=5000)\n",
    "\n",
    "plt.plot(fws, 'b')\n",
    "plt.xlabel('Iterations')\n",
    "plt.ylabel('Objective')\n",
    "plt.show()"
   ]
  },
  {
   "cell_type": "code",
   "execution_count": null,
   "metadata": {},
   "outputs": [],
   "source": [
    "np.sign(np.dot(X, w_hat)) - y"
   ]
  },
  {
   "cell_type": "code",
   "execution_count": null,
   "metadata": {},
   "outputs": [],
   "source": [
    "plt.scatter(X[y > 0, 0], X[y > 0, 1], color='r')\n",
    "plt.scatter(X[y < 0, 0], X[y < 0, 1], color='b')\n",
    "xx = np.linspace(4, 8, 10)\n",
    "plt.plot(xx,  - xx * w_hat[0] / w_hat[1], 'k');"
   ]
  },
  {
   "cell_type": "markdown",
   "metadata": {},
   "source": [
    "<div class=\"alert alert-success\">\n",
    "    <b>QUESTION 1:</b>\n",
    "     <ul>\n",
    "       <li>Modify f and f_grad to add support for the regularization.\n",
    "           Check your gradient with scipy.optimize.check_grad</li>\n",
    "       <li>Just for fun check your gradient against PyTorch based on automatic differentiation. Which implementation is the most accurate?</li>\n",
    "    </ul>\n",
    "</div>"
   ]
  },
  {
   "cell_type": "code",
   "execution_count": null,
   "metadata": {},
   "outputs": [],
   "source": []
  }
 ],
 "metadata": {
  "kernelspec": {
   "display_name": "Python 3",
   "language": "python",
   "name": "python3"
  },
  "language_info": {
   "codemirror_mode": {
    "name": "ipython",
    "version": 3
   },
   "file_extension": ".py",
   "mimetype": "text/x-python",
   "name": "python",
   "nbconvert_exporter": "python",
   "pygments_lexer": "ipython3",
   "version": "3.8.6"
  },
  "widgets": {
   "state": {},
   "version": "1.1.2"
  }
 },
 "nbformat": 4,
 "nbformat_minor": 1
}
