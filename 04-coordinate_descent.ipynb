{
 "cells": [
  {
   "cell_type": "markdown",
   "metadata": {},
   "source": [
    "# Coordinate descent for L2 logistic regression\n",
    "\n",
    "Author: Alexandre Gramfort, Mathurin Massias"
   ]
  },
  {
   "cell_type": "code",
   "execution_count": null,
   "metadata": {},
   "outputs": [],
   "source": [
    "%matplotlib inline\n",
    "import numpy as np\n",
    "import matplotlib.pyplot as plt\n",
    "from scipy import linalg"
   ]
  },
  {
   "cell_type": "markdown",
   "metadata": {},
   "source": [
    "## Load some data"
   ]
  },
  {
   "cell_type": "code",
   "execution_count": null,
   "metadata": {},
   "outputs": [],
   "source": [
    "from sklearn import datasets\n",
    "\n",
    "iris = datasets.load_iris()\n",
    "X = iris.data[:, :2]\n",
    "y = iris.target\n",
    "\n",
    "# Make it binary\n",
    "X = X[y < 2]\n",
    "y = y[y < 2]\n",
    "\n",
    "# add intercept column of ones\n",
    "# X = np.concatenate((X, np.ones((X.shape[0], 1))), axis=1)\n",
    "\n",
    "y[y == 0] = -1"
   ]
  },
  {
   "cell_type": "code",
   "execution_count": null,
   "metadata": {},
   "outputs": [],
   "source": [
    "plt.scatter(X[y > 0, 0], X[y > 0, 1], color='r')\n",
    "plt.scatter(X[y < 0, 0], X[y < 0, 1], color='b')"
   ]
  },
  {
   "cell_type": "markdown",
   "metadata": {},
   "source": [
    "## Gradient descent"
   ]
  },
  {
   "cell_type": "code",
   "execution_count": null,
   "metadata": {},
   "outputs": [],
   "source": [
    "def f(w):\n",
    "    pobj = np.sum(np.log(1. + np.exp(- y * np.dot(X, w))))\n",
    "    return pobj\n",
    "\n",
    "def f_grad(w):\n",
    "    ywTx = y * np.dot(X, w)\n",
    "    temp = 1. / (1. + np.exp(ywTx))\n",
    "    grad = -np.dot(X.T, (y * temp))\n",
    "    return grad\n",
    "\n",
    "from scipy.optimize import check_grad\n",
    "check_grad(f, f_grad, np.random.randn(2))"
   ]
  },
  {
   "cell_type": "code",
   "execution_count": null,
   "metadata": {},
   "outputs": [],
   "source": [
    "def grad_descent(f, f_grad, w0, step_size=0.01, max_iter=0):\n",
    "    \"\"\"Gradient descent with constant step size\"\"\"\n",
    "    w = w0.copy()\n",
    "    fws = []\n",
    "    for k in range(max_iter):\n",
    "        w -= step_size * f_grad(w)\n",
    "        fws.append(f(w))\n",
    "    return w, fws\n",
    "\n",
    "n_features = X.shape[1]\n",
    "x0 = np.zeros(n_features)\n",
    "w_hat, fws = grad_descent(f, f_grad, x0, step_size=0.001, max_iter=5000)\n",
    "\n",
    "plt.plot(fws, 'b')\n",
    "plt.xlabel('Iterations')\n",
    "plt.ylabel('Objective')\n",
    "plt.show()"
   ]
  },
  {
   "cell_type": "code",
   "execution_count": null,
   "metadata": {},
   "outputs": [],
   "source": [
    "plt.scatter(X[y > 0, 0], X[y > 0, 1], color='r')\n",
    "plt.scatter(X[y < 0, 0], X[y < 0, 1], color='b')\n",
    "xx = np.linspace(4, 8, 10)\n",
    "plt.plot(xx,  - xx * w_hat[0] / w_hat[1], 'k');"
   ]
  },
  {
   "cell_type": "markdown",
   "metadata": {},
   "source": [
    "## Cyclic coordinate descent"
   ]
  },
  {
   "cell_type": "code",
   "execution_count": null,
   "metadata": {},
   "outputs": [],
   "source": [
    "from numpy.linalg import norm\n",
    "\n",
    "def sigmoid(t):\n",
    "    \"\"\"Sigmoid function\"\"\"\n",
    "    return 1. / (1. + np.exp(-t))\n",
    "\n",
    "def cd_logreg(X, y, n_iter):\n",
    "    n_samples, n_features = X.shape\n",
    "    w = np.zeros(n_features)\n",
    "    Xw = X.dot(w)\n",
    "    all_objs = np.empty(n_iter)\n",
    "    lips_const = (np.linalg.norm(X, ord=2, axis=0) ** 2) / 4.\n",
    "    \n",
    "    for t in range(n_iter):\n",
    "        for j in range(n_features):\n",
    "            old_w_j = w[j]\n",
    "            grad_j = np.sum(- y * X[:, j] / (1 + np.exp(y * Xw)))\n",
    "            w[j] -= grad_j / lips_const[j]\n",
    "            Xw += X[:, j] * (w[j] - old_w_j)\n",
    "\n",
    "        all_objs[t] = np.log(1. + np.exp(-y * Xw)).sum()\n",
    "    \n",
    "    return w, all_objs\n",
    "\n",
    "w_hat, all_objs = cd_logreg(X, y, n_iter=2000)\n",
    "plt.plot(all_objs)"
   ]
  },
  {
   "cell_type": "code",
   "execution_count": null,
   "metadata": {},
   "outputs": [],
   "source": [
    "plt.scatter(X[y > 0, 0], X[y > 0, 1], color='r')\n",
    "plt.scatter(X[y < 0, 0], X[y < 0, 1], color='b')\n",
    "xx = np.linspace(4, 8, 10)\n",
    "plt.plot(xx,  - xx * w_hat[0] / w_hat[1], 'k');"
   ]
  },
  {
   "cell_type": "markdown",
   "metadata": {},
   "source": [
    "<div class=\"alert alert-success\">\n",
    "    <b>QUESTION 1:</b>\n",
    "     <ul>\n",
    "       <li>Modify the code to solve logistic regression with L2 regularization and a bias term.</li>\n",
    "       <li>Modify the code to solve logistic regression with a bias term.</li>\n",
    "    </ul>\n",
    "</div>"
   ]
  },
  {
   "cell_type": "code",
   "execution_count": null,
   "metadata": {},
   "outputs": [],
   "source": []
  }
 ],
 "metadata": {
  "anaconda-cloud": {},
  "kernelspec": {
   "display_name": "Python 3",
   "language": "python",
   "name": "python3"
  },
  "language_info": {
   "codemirror_mode": {
    "name": "ipython",
    "version": 3
   },
   "file_extension": ".py",
   "mimetype": "text/x-python",
   "name": "python",
   "nbconvert_exporter": "python",
   "pygments_lexer": "ipython3",
   "version": "3.8.6"
  },
  "widgets": {
   "state": {},
   "version": "1.1.2"
  }
 },
 "nbformat": 4,
 "nbformat_minor": 1
}
